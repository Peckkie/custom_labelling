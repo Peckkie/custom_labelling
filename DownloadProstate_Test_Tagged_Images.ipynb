{
 "cells": [
  {
   "cell_type": "code",
   "execution_count": 1,
   "metadata": {},
   "outputs": [],
   "source": [
    "import http.client\n",
    "import urllib.request\n",
    "import urllib.parse\n",
    "import urllib.error\n",
    "import base64\n",
    "import json\n",
    "import os\n",
    "\n",
    "from IPython.display import Image\n",
    "import cv2  \n",
    "import pandas as pd\n",
    "import numpy as np"
   ]
  },
  {
   "cell_type": "markdown",
   "metadata": {},
   "source": [
    "## Load tagged from custom vision"
   ]
  },
  {
   "cell_type": "code",
   "execution_count": 2,
   "metadata": {},
   "outputs": [],
   "source": [
    "headers = {\n",
    " # Request headers\n",
    " 'Training-Key': '1a4a4c41bd394819be757c43ac8f1931' #--------------------แก้ตาม Custom Project\n",
    "}\n",
    "project_id = \"5148bc53-cdbd-49ea-b302-216d183cb4a5\" #--------------------แก้ตาม Custom Project"
   ]
  },
  {
   "cell_type": "code",
   "execution_count": 3,
   "metadata": {},
   "outputs": [],
   "source": [
    "params = urllib.parse.urlencode({\n",
    " # Format - int32. Maximum number of images to return. Defaults to 50, limited to 256.\n",
    " 'take': '50',\n",
    " # Format - int32. Number of images to skip before beginning the image batch. Defaults to 0.\n",
    " 'skip': '0'\n",
    "})"
   ]
  },
  {
   "cell_type": "code",
   "execution_count": 4,
   "metadata": {},
   "outputs": [],
   "source": [
    "try:\n",
    "     # base url\n",
    "    conn = http.client.HTTPSConnection('southeastasia.api.cognitive.microsoft.com')\n",
    "    conn.request(\"GET\", f\"/customvision/v3.0/training/projects/{project_id}/images/tagged?{params}\", \"{body}\", headers)\n",
    "    response = conn.getresponse() \n",
    "    # get response as a raw string\n",
    "    data = response.read() \n",
    "    # convert the string to a json object\n",
    "    data_json = json.loads(data)\n",
    "except:\n",
    "    print('error')"
   ]
  },
  {
   "cell_type": "code",
   "execution_count": 5,
   "metadata": {},
   "outputs": [
    {
     "data": {
      "text/plain": [
       "10"
      ]
     },
     "execution_count": 5,
     "metadata": {},
     "output_type": "execute_result"
    }
   ],
   "source": [
    "len(data_json)"
   ]
  },
  {
   "cell_type": "markdown",
   "metadata": {},
   "source": [
    "## Dataframe for checking images"
   ]
  },
  {
   "cell_type": "code",
   "execution_count": 6,
   "metadata": {},
   "outputs": [
    {
     "data": {
      "text/html": [
       "<div>\n",
       "<style scoped>\n",
       "    .dataframe tbody tr th:only-of-type {\n",
       "        vertical-align: middle;\n",
       "    }\n",
       "\n",
       "    .dataframe tbody tr th {\n",
       "        vertical-align: top;\n",
       "    }\n",
       "\n",
       "    .dataframe thead th {\n",
       "        text-align: right;\n",
       "    }\n",
       "</style>\n",
       "<table border=\"1\" class=\"dataframe\">\n",
       "  <thead>\n",
       "    <tr style=\"text-align: right;\">\n",
       "      <th></th>\n",
       "      <th>Unnamed: 0</th>\n",
       "      <th>Case</th>\n",
       "      <th>Num</th>\n",
       "      <th>FileName</th>\n",
       "      <th>Path</th>\n",
       "      <th>Subset</th>\n",
       "    </tr>\n",
       "  </thead>\n",
       "  <tbody>\n",
       "    <tr>\n",
       "      <th>0</th>\n",
       "      <td>0</td>\n",
       "      <td>GE4586</td>\n",
       "      <td>2</td>\n",
       "      <td>GE4586_2.jpg</td>\n",
       "      <td>/media/tohn/HDD/VISION_dataset/Prostate/Train/...</td>\n",
       "      <td>Train</td>\n",
       "    </tr>\n",
       "    <tr>\n",
       "      <th>1</th>\n",
       "      <td>1</td>\n",
       "      <td>IE5235</td>\n",
       "      <td>1</td>\n",
       "      <td>IE5235_1.jpg</td>\n",
       "      <td>/media/tohn/HDD/VISION_dataset/Prostate/Train/...</td>\n",
       "      <td>Train</td>\n",
       "    </tr>\n",
       "    <tr>\n",
       "      <th>2</th>\n",
       "      <td>2</td>\n",
       "      <td>GI2946</td>\n",
       "      <td>0</td>\n",
       "      <td>GI2946_0.jpg</td>\n",
       "      <td>/media/tohn/HDD/VISION_dataset/Prostate/Train/...</td>\n",
       "      <td>Train</td>\n",
       "    </tr>\n",
       "    <tr>\n",
       "      <th>3</th>\n",
       "      <td>3</td>\n",
       "      <td>BK1461</td>\n",
       "      <td>8</td>\n",
       "      <td>BK1461_8.jpg</td>\n",
       "      <td>/media/tohn/HDD/VISION_dataset/Prostate/Train/...</td>\n",
       "      <td>Train</td>\n",
       "    </tr>\n",
       "    <tr>\n",
       "      <th>4</th>\n",
       "      <td>4</td>\n",
       "      <td>IV7824</td>\n",
       "      <td>0</td>\n",
       "      <td>IV7824_0.jpg</td>\n",
       "      <td>/media/tohn/HDD/VISION_dataset/Prostate/Train/...</td>\n",
       "      <td>Train</td>\n",
       "    </tr>\n",
       "  </tbody>\n",
       "</table>\n",
       "</div>"
      ],
      "text/plain": [
       "   Unnamed: 0    Case  Num      FileName  \\\n",
       "0           0  GE4586    2  GE4586_2.jpg   \n",
       "1           1  IE5235    1  IE5235_1.jpg   \n",
       "2           2  GI2946    0  GI2946_0.jpg   \n",
       "3           3  BK1461    8  BK1461_8.jpg   \n",
       "4           4  IV7824    0  IV7824_0.jpg   \n",
       "\n",
       "                                                Path Subset  \n",
       "0  /media/tohn/HDD/VISION_dataset/Prostate/Train/...  Train  \n",
       "1  /media/tohn/HDD/VISION_dataset/Prostate/Train/...  Train  \n",
       "2  /media/tohn/HDD/VISION_dataset/Prostate/Train/...  Train  \n",
       "3  /media/tohn/HDD/VISION_dataset/Prostate/Train/...  Train  \n",
       "4  /media/tohn/HDD/VISION_dataset/Prostate/Train/...  Train  "
      ]
     },
     "execution_count": 6,
     "metadata": {},
     "output_type": "execute_result"
    }
   ],
   "source": [
    "df = pd.read_csv('/home/yupaporn/codes/custom_labelling/Prostate.csv')\n",
    "df.head(5)"
   ]
  },
  {
   "cell_type": "code",
   "execution_count": 7,
   "metadata": {},
   "outputs": [
    {
     "data": {
      "text/plain": [
       "161"
      ]
     },
     "execution_count": 7,
     "metadata": {},
     "output_type": "execute_result"
    }
   ],
   "source": [
    "len(df)"
   ]
  },
  {
   "cell_type": "code",
   "execution_count": 8,
   "metadata": {},
   "outputs": [],
   "source": [
    "thisdf=df"
   ]
  },
  {
   "cell_type": "markdown",
   "metadata": {},
   "source": [
    "### Checking images loop "
   ]
  },
  {
   "cell_type": "markdown",
   "metadata": {},
   "source": [
    "#### รอบที่ 1 : 50"
   ]
  },
  {
   "cell_type": "code",
   "execution_count": 9,
   "metadata": {},
   "outputs": [],
   "source": [
    "def findmat (thisdf):\n",
    "    for record in thisdf.iterrows():\n",
    "        img_path = record[1]['Path']\n",
    "        img_c = cv2.imread(img_path)\n",
    "        try:\n",
    "            if (img_c.shape[0] == img.shape[0]) and (img_c.shape[1] == img.shape[1]):\n",
    "                img_dif = np.sum(img-img_c)\n",
    "                path = 'None'\n",
    "                if img_dif == 0:\n",
    "                    print(img_path)\n",
    "                    path = img_path\n",
    "                return path\n",
    "        except:\n",
    "            path = 'None'\n",
    "            print('this is none')"
   ]
  },
  {
   "cell_type": "code",
   "execution_count": 10,
   "metadata": {
    "scrolled": true
   },
   "outputs": [
    {
     "name": "stdout",
     "output_type": "stream",
     "text": [
      "0\n",
      "None\n",
      "0\n",
      "None\n",
      "0\n",
      "None\n",
      "1\n",
      "None\n",
      "1\n",
      "None\n",
      "2\n",
      "None\n",
      "3\n",
      "None\n",
      "4\n",
      "None\n",
      "4\n",
      "None\n",
      "5\n",
      "None\n",
      "6\n",
      "None\n",
      "6\n",
      "None\n",
      "7\n",
      "None\n",
      "7\n",
      "None\n",
      "7\n",
      "None\n",
      "8\n",
      "None\n",
      "9\n",
      "None\n",
      "9\n",
      "None\n",
      "9\n",
      "None\n"
     ]
    }
   ],
   "source": [
    "datadf = list()\n",
    "for i in range(0,len(data_json)):\n",
    "    \n",
    "    #load image origin save to test.jpg\n",
    "    urllib.request.urlretrieve(data_json[i]['originalImageUri'],'test.jpg')\n",
    "    img = cv2.imread('test.jpg') \n",
    "    \n",
    "    originalImage = data_json[i]['originalImageUri']\n",
    "    for j in range(len(data_json[i]['regions'])):    \n",
    "        tagName = data_json[i]['regions'][j]['tagName']\n",
    "        left = int(data_json[i]['regions'][j]['left'] * data_json[i]['width'])\n",
    "        top = int(data_json[i]['regions'][j]['top'] * data_json[i]['height'])\n",
    "        width = int(data_json[i]['regions'][j]['width'] * data_json[i]['width'])\n",
    "        height = int(data_json[i]['regions'][j]['height'] * data_json[i]['height'])\n",
    "    #     img = cv2.rectangle(img, (left,top), (left+width,top+height), (255,0,0), 5)\n",
    "        #Real point\n",
    "        Rleft =data_json[i]['regions'][j]['left']\n",
    "        Rtop = data_json[i]['regions'][j]['top']\n",
    "        Rwidth = data_json[i]['regions'][j]['width']\n",
    "        Rheight = data_json[i]['regions'][j]['height']\n",
    "    \n",
    "        #loop check img\n",
    "        print(i)\n",
    "        path = findmat(thisdf)\n",
    "        print(path)\n",
    "\n",
    "        datadf.append({'img_path':path,'tagName':tagName,'originalImage': originalImage, 'left':left, 'top':top,\n",
    "                              'width':width,'height':height, 'Rleft':Rleft, 'Rtop':Rtop,\n",
    "                              'Rwidth':Rwidth,'Rheight':Rheight})"
   ]
  },
  {
   "cell_type": "code",
   "execution_count": 11,
   "metadata": {},
   "outputs": [
    {
     "data": {
      "text/html": [
       "<div>\n",
       "<style scoped>\n",
       "    .dataframe tbody tr th:only-of-type {\n",
       "        vertical-align: middle;\n",
       "    }\n",
       "\n",
       "    .dataframe tbody tr th {\n",
       "        vertical-align: top;\n",
       "    }\n",
       "\n",
       "    .dataframe thead th {\n",
       "        text-align: right;\n",
       "    }\n",
       "</style>\n",
       "<table border=\"1\" class=\"dataframe\">\n",
       "  <thead>\n",
       "    <tr style=\"text-align: right;\">\n",
       "      <th></th>\n",
       "      <th>img_path</th>\n",
       "      <th>tagName</th>\n",
       "      <th>originalImage</th>\n",
       "      <th>left</th>\n",
       "      <th>top</th>\n",
       "      <th>width</th>\n",
       "      <th>height</th>\n",
       "      <th>Rleft</th>\n",
       "      <th>Rtop</th>\n",
       "      <th>Rwidth</th>\n",
       "      <th>Rheight</th>\n",
       "    </tr>\n",
       "  </thead>\n",
       "  <tbody>\n",
       "    <tr>\n",
       "      <th>0</th>\n",
       "      <td>None</td>\n",
       "      <td>prostate</td>\n",
       "      <td>https://irisprodseatraining.blob.core.windows....</td>\n",
       "      <td>468</td>\n",
       "      <td>309</td>\n",
       "      <td>81</td>\n",
       "      <td>58</td>\n",
       "      <td>0.524609</td>\n",
       "      <td>0.430187</td>\n",
       "      <td>0.090604</td>\n",
       "      <td>0.081944</td>\n",
       "    </tr>\n",
       "    <tr>\n",
       "      <th>1</th>\n",
       "      <td>None</td>\n",
       "      <td>prostate</td>\n",
       "      <td>https://irisprodseatraining.blob.core.windows....</td>\n",
       "      <td>470</td>\n",
       "      <td>385</td>\n",
       "      <td>81</td>\n",
       "      <td>26</td>\n",
       "      <td>0.525727</td>\n",
       "      <td>0.535742</td>\n",
       "      <td>0.091723</td>\n",
       "      <td>0.036111</td>\n",
       "    </tr>\n",
       "    <tr>\n",
       "      <th>2</th>\n",
       "      <td>None</td>\n",
       "      <td>prostate</td>\n",
       "      <td>https://irisprodseatraining.blob.core.windows....</td>\n",
       "      <td>351</td>\n",
       "      <td>374</td>\n",
       "      <td>39</td>\n",
       "      <td>58</td>\n",
       "      <td>0.393736</td>\n",
       "      <td>0.520464</td>\n",
       "      <td>0.043624</td>\n",
       "      <td>0.080556</td>\n",
       "    </tr>\n",
       "    <tr>\n",
       "      <th>3</th>\n",
       "      <td>None</td>\n",
       "      <td>prostate</td>\n",
       "      <td>https://irisprodseatraining.blob.core.windows....</td>\n",
       "      <td>385</td>\n",
       "      <td>392</td>\n",
       "      <td>57</td>\n",
       "      <td>60</td>\n",
       "      <td>0.430804</td>\n",
       "      <td>0.544708</td>\n",
       "      <td>0.064732</td>\n",
       "      <td>0.083218</td>\n",
       "    </tr>\n",
       "    <tr>\n",
       "      <th>4</th>\n",
       "      <td>None</td>\n",
       "      <td>prostate</td>\n",
       "      <td>https://irisprodseatraining.blob.core.windows....</td>\n",
       "      <td>512</td>\n",
       "      <td>362</td>\n",
       "      <td>32</td>\n",
       "      <td>41</td>\n",
       "      <td>0.572545</td>\n",
       "      <td>0.503099</td>\n",
       "      <td>0.035714</td>\n",
       "      <td>0.056865</td>\n",
       "    </tr>\n",
       "  </tbody>\n",
       "</table>\n",
       "</div>"
      ],
      "text/plain": [
       "  img_path   tagName                                      originalImage  left  \\\n",
       "0     None  prostate  https://irisprodseatraining.blob.core.windows....   468   \n",
       "1     None  prostate  https://irisprodseatraining.blob.core.windows....   470   \n",
       "2     None  prostate  https://irisprodseatraining.blob.core.windows....   351   \n",
       "3     None  prostate  https://irisprodseatraining.blob.core.windows....   385   \n",
       "4     None  prostate  https://irisprodseatraining.blob.core.windows....   512   \n",
       "\n",
       "   top  width  height     Rleft      Rtop    Rwidth   Rheight  \n",
       "0  309     81      58  0.524609  0.430187  0.090604  0.081944  \n",
       "1  385     81      26  0.525727  0.535742  0.091723  0.036111  \n",
       "2  374     39      58  0.393736  0.520464  0.043624  0.080556  \n",
       "3  392     57      60  0.430804  0.544708  0.064732  0.083218  \n",
       "4  362     32      41  0.572545  0.503099  0.035714  0.056865  "
      ]
     },
     "execution_count": 11,
     "metadata": {},
     "output_type": "execute_result"
    }
   ],
   "source": [
    "df = pd.DataFrame(datadf)\n",
    "df.head()"
   ]
  },
  {
   "cell_type": "code",
   "execution_count": 12,
   "metadata": {},
   "outputs": [
    {
     "name": "stdout",
     "output_type": "stream",
     "text": [
      "19\n"
     ]
    }
   ],
   "source": [
    "print(len(df))"
   ]
  },
  {
   "cell_type": "code",
   "execution_count": 13,
   "metadata": {},
   "outputs": [],
   "source": [
    "os.chdir('/home/yupaporn/USAI_labeling/')\n",
    "df.to_csv('Prostate_test.csv')"
   ]
  },
  {
   "cell_type": "code",
   "execution_count": null,
   "metadata": {},
   "outputs": [],
   "source": []
  }
 ],
 "metadata": {
  "kernelspec": {
   "display_name": "USAI3",
   "language": "python",
   "name": "usai3"
  },
  "language_info": {
   "codemirror_mode": {
    "name": "ipython",
    "version": 3
   },
   "file_extension": ".py",
   "mimetype": "text/x-python",
   "name": "python",
   "nbconvert_exporter": "python",
   "pygments_lexer": "ipython3",
   "version": "3.6.9"
  }
 },
 "nbformat": 4,
 "nbformat_minor": 4
}
