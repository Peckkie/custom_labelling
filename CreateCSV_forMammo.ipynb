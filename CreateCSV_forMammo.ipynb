{
 "cells": [
  {
   "cell_type": "code",
   "execution_count": 1,
   "metadata": {},
   "outputs": [],
   "source": [
    "import pandas as pd\n",
    "import os\n",
    "import glob"
   ]
  },
  {
   "cell_type": "code",
   "execution_count": 2,
   "metadata": {},
   "outputs": [
    {
     "name": "stdout",
     "output_type": "stream",
     "text": [
      "32\n"
     ]
    }
   ],
   "source": [
    "#External\n",
    "os.chdir('/home/yupaporn/mammo/train/External')\n",
    "print(len(glob.glob(\"*.jpg\")))"
   ]
  },
  {
   "cell_type": "code",
   "execution_count": 3,
   "metadata": {},
   "outputs": [
    {
     "name": "stdout",
     "output_type": "stream",
     "text": [
      "92\n"
     ]
    }
   ],
   "source": [
    "#Internal\n",
    "os.chdir('/home/yupaporn/mammo/train/Internal')\n",
    "print(len(glob.glob(\"*.jpg\")))"
   ]
  },
  {
   "cell_type": "code",
   "execution_count": 4,
   "metadata": {},
   "outputs": [
    {
     "name": "stdout",
     "output_type": "stream",
     "text": [
      "10\n"
     ]
    }
   ],
   "source": [
    "#Test\n",
    "os.chdir('/home/yupaporn/mammo/test')\n",
    "print(len(glob.glob(\"*.jpg\")))"
   ]
  },
  {
   "cell_type": "code",
   "execution_count": 5,
   "metadata": {},
   "outputs": [],
   "source": [
    "Table = list()\n",
    "arange =['test', 'train/Internal', 'train/External']\n",
    "for i in arange:\n",
    "    Opath = '/media/tohn/HDD/VISION_dataset/mammo/' + i + '/'\n",
    "    os.chdir(Opath) \n",
    "    imglist = glob.glob(\"*.jpg\")\n",
    "#     print(len(imglist))\n",
    "    for j in imglist:\n",
    "        filename = j\n",
    "        img_path = Opath + j\n",
    "        datasplit = i.split('/')[0]\n",
    "        try:\n",
    "            cate = i.split('/')[1]\n",
    "        except:\n",
    "            cate = 'test'\n",
    "        case = j.split('_')[1]\n",
    "        case = case.split('.')[0]\n",
    "        Table.append({'Case': case,'FileName': filename, 'Path': img_path, 'Split': datasplit, 'Category': cate})"
   ]
  },
  {
   "cell_type": "code",
   "execution_count": 6,
   "metadata": {},
   "outputs": [
    {
     "data": {
      "text/html": [
       "<div>\n",
       "<style scoped>\n",
       "    .dataframe tbody tr th:only-of-type {\n",
       "        vertical-align: middle;\n",
       "    }\n",
       "\n",
       "    .dataframe tbody tr th {\n",
       "        vertical-align: top;\n",
       "    }\n",
       "\n",
       "    .dataframe thead th {\n",
       "        text-align: right;\n",
       "    }\n",
       "</style>\n",
       "<table border=\"1\" class=\"dataframe\">\n",
       "  <thead>\n",
       "    <tr style=\"text-align: right;\">\n",
       "      <th></th>\n",
       "      <th>Case</th>\n",
       "      <th>FileName</th>\n",
       "      <th>Path</th>\n",
       "      <th>Split</th>\n",
       "      <th>Category</th>\n",
       "    </tr>\n",
       "  </thead>\n",
       "  <tbody>\n",
       "    <tr>\n",
       "      <th>0</th>\n",
       "      <td>133</td>\n",
       "      <td>mammo_133.jpg</td>\n",
       "      <td>/media/tohn/HDD/VISION_dataset/mammo/test/mamm...</td>\n",
       "      <td>test</td>\n",
       "      <td>test</td>\n",
       "    </tr>\n",
       "    <tr>\n",
       "      <th>1</th>\n",
       "      <td>135</td>\n",
       "      <td>mammo_135.jpg</td>\n",
       "      <td>/media/tohn/HDD/VISION_dataset/mammo/test/mamm...</td>\n",
       "      <td>test</td>\n",
       "      <td>test</td>\n",
       "    </tr>\n",
       "    <tr>\n",
       "      <th>2</th>\n",
       "      <td>130</td>\n",
       "      <td>mammo_130.jpg</td>\n",
       "      <td>/media/tohn/HDD/VISION_dataset/mammo/test/mamm...</td>\n",
       "      <td>test</td>\n",
       "      <td>test</td>\n",
       "    </tr>\n",
       "    <tr>\n",
       "      <th>3</th>\n",
       "      <td>129</td>\n",
       "      <td>mammo_129.jpg</td>\n",
       "      <td>/media/tohn/HDD/VISION_dataset/mammo/test/mamm...</td>\n",
       "      <td>test</td>\n",
       "      <td>test</td>\n",
       "    </tr>\n",
       "    <tr>\n",
       "      <th>4</th>\n",
       "      <td>128</td>\n",
       "      <td>mammo_128.jpg</td>\n",
       "      <td>/media/tohn/HDD/VISION_dataset/mammo/test/mamm...</td>\n",
       "      <td>test</td>\n",
       "      <td>test</td>\n",
       "    </tr>\n",
       "    <tr>\n",
       "      <th>...</th>\n",
       "      <td>...</td>\n",
       "      <td>...</td>\n",
       "      <td>...</td>\n",
       "      <td>...</td>\n",
       "      <td>...</td>\n",
       "    </tr>\n",
       "    <tr>\n",
       "      <th>129</th>\n",
       "      <td>1</td>\n",
       "      <td>mammo_1.jpg</td>\n",
       "      <td>/media/tohn/HDD/VISION_dataset/mammo/train/Ext...</td>\n",
       "      <td>train</td>\n",
       "      <td>External</td>\n",
       "    </tr>\n",
       "    <tr>\n",
       "      <th>130</th>\n",
       "      <td>98</td>\n",
       "      <td>mammo_98.jpg</td>\n",
       "      <td>/media/tohn/HDD/VISION_dataset/mammo/train/Ext...</td>\n",
       "      <td>train</td>\n",
       "      <td>External</td>\n",
       "    </tr>\n",
       "    <tr>\n",
       "      <th>131</th>\n",
       "      <td>103</td>\n",
       "      <td>mammo_103.jpg</td>\n",
       "      <td>/media/tohn/HDD/VISION_dataset/mammo/train/Ext...</td>\n",
       "      <td>train</td>\n",
       "      <td>External</td>\n",
       "    </tr>\n",
       "    <tr>\n",
       "      <th>132</th>\n",
       "      <td>20</td>\n",
       "      <td>mammo_20.jpg</td>\n",
       "      <td>/media/tohn/HDD/VISION_dataset/mammo/train/Ext...</td>\n",
       "      <td>train</td>\n",
       "      <td>External</td>\n",
       "    </tr>\n",
       "    <tr>\n",
       "      <th>133</th>\n",
       "      <td>107</td>\n",
       "      <td>mammo_107.jpg</td>\n",
       "      <td>/media/tohn/HDD/VISION_dataset/mammo/train/Ext...</td>\n",
       "      <td>train</td>\n",
       "      <td>External</td>\n",
       "    </tr>\n",
       "  </tbody>\n",
       "</table>\n",
       "<p>134 rows × 5 columns</p>\n",
       "</div>"
      ],
      "text/plain": [
       "    Case       FileName                                               Path  \\\n",
       "0    133  mammo_133.jpg  /media/tohn/HDD/VISION_dataset/mammo/test/mamm...   \n",
       "1    135  mammo_135.jpg  /media/tohn/HDD/VISION_dataset/mammo/test/mamm...   \n",
       "2    130  mammo_130.jpg  /media/tohn/HDD/VISION_dataset/mammo/test/mamm...   \n",
       "3    129  mammo_129.jpg  /media/tohn/HDD/VISION_dataset/mammo/test/mamm...   \n",
       "4    128  mammo_128.jpg  /media/tohn/HDD/VISION_dataset/mammo/test/mamm...   \n",
       "..   ...            ...                                                ...   \n",
       "129    1    mammo_1.jpg  /media/tohn/HDD/VISION_dataset/mammo/train/Ext...   \n",
       "130   98   mammo_98.jpg  /media/tohn/HDD/VISION_dataset/mammo/train/Ext...   \n",
       "131  103  mammo_103.jpg  /media/tohn/HDD/VISION_dataset/mammo/train/Ext...   \n",
       "132   20   mammo_20.jpg  /media/tohn/HDD/VISION_dataset/mammo/train/Ext...   \n",
       "133  107  mammo_107.jpg  /media/tohn/HDD/VISION_dataset/mammo/train/Ext...   \n",
       "\n",
       "     Split  Category  \n",
       "0     test      test  \n",
       "1     test      test  \n",
       "2     test      test  \n",
       "3     test      test  \n",
       "4     test      test  \n",
       "..     ...       ...  \n",
       "129  train  External  \n",
       "130  train  External  \n",
       "131  train  External  \n",
       "132  train  External  \n",
       "133  train  External  \n",
       "\n",
       "[134 rows x 5 columns]"
      ]
     },
     "execution_count": 6,
     "metadata": {},
     "output_type": "execute_result"
    }
   ],
   "source": [
    "df = pd.DataFrame(Table)\n",
    "df"
   ]
  },
  {
   "cell_type": "code",
   "execution_count": 23,
   "metadata": {},
   "outputs": [],
   "source": [
    "os.chdir( '/media/tohn/HDD/VISION_dataset/mammo/')\n",
    "df.to_csv('mammo.csv')"
   ]
  },
  {
   "cell_type": "code",
   "execution_count": null,
   "metadata": {},
   "outputs": [],
   "source": []
  }
 ],
 "metadata": {
  "kernelspec": {
   "display_name": "USAI3",
   "language": "python",
   "name": "usai3"
  },
  "language_info": {
   "codemirror_mode": {
    "name": "ipython",
    "version": 3
   },
   "file_extension": ".py",
   "mimetype": "text/x-python",
   "name": "python",
   "nbconvert_exporter": "python",
   "pygments_lexer": "ipython3",
   "version": "3.6.9"
  }
 },
 "nbformat": 4,
 "nbformat_minor": 4
}
