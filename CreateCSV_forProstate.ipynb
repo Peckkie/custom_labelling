{
 "cells": [
  {
   "cell_type": "code",
   "execution_count": 1,
   "metadata": {},
   "outputs": [],
   "source": [
    "import pandas as pd\n",
    "import os\n",
    "import glob"
   ]
  },
  {
   "cell_type": "code",
   "execution_count": 2,
   "metadata": {},
   "outputs": [
    {
     "name": "stdout",
     "output_type": "stream",
     "text": [
      "151\n"
     ]
    }
   ],
   "source": [
    "#Train\n",
    "os.chdir('/media/tohn/HDD/VISION_dataset/Prostate/Train')\n",
    "print(len(glob.glob(\"*.jpg\")))"
   ]
  },
  {
   "cell_type": "code",
   "execution_count": 3,
   "metadata": {},
   "outputs": [
    {
     "name": "stdout",
     "output_type": "stream",
     "text": [
      "10\n"
     ]
    }
   ],
   "source": [
    "#Test\n",
    "os.chdir('/media/tohn/HDD/VISION_dataset/Prostate/Test')\n",
    "print(len(glob.glob(\"*.jpg\")))"
   ]
  },
  {
   "cell_type": "code",
   "execution_count": 4,
   "metadata": {},
   "outputs": [],
   "source": [
    "#Test\n",
    "#os.chdir('/home/yupaporn/mammo/test')\n",
    "#print(len(glob.glob(\"*.jpg\")))"
   ]
  },
  {
   "cell_type": "code",
   "execution_count": 7,
   "metadata": {},
   "outputs": [],
   "source": [
    "Table = list()\n",
    "arange =['Train', 'Test']\n",
    "for i in arange:\n",
    "    Opath = '/media/tohn/HDD/VISION_dataset/Prostate/' + i + '/'\n",
    "    os.chdir(Opath) \n",
    "    imglist = glob.glob(\"*.jpg\")\n",
    "#     print(len(imglist))\n",
    "    for j in imglist:\n",
    "        filename = j\n",
    "        img_path = Opath + j\n",
    "        datasplit = i.split('/')[0]\n",
    "        #try:\n",
    "            #cate = i.split('/')[1]\n",
    "        #except:\n",
    "            #cate = 'test'\n",
    "        case = j.split('_')[0]\n",
    "        Num = j.split('_')[1]\n",
    "        Num = Num.split('.')[0]\n",
    "        Table.append({'Case': case,'Num':Num, 'FileName': filename, 'Path': img_path, 'Subset': datasplit})"
   ]
  },
  {
   "cell_type": "code",
   "execution_count": 8,
   "metadata": {},
   "outputs": [
    {
     "data": {
      "text/html": [
       "<div>\n",
       "<style scoped>\n",
       "    .dataframe tbody tr th:only-of-type {\n",
       "        vertical-align: middle;\n",
       "    }\n",
       "\n",
       "    .dataframe tbody tr th {\n",
       "        vertical-align: top;\n",
       "    }\n",
       "\n",
       "    .dataframe thead th {\n",
       "        text-align: right;\n",
       "    }\n",
       "</style>\n",
       "<table border=\"1\" class=\"dataframe\">\n",
       "  <thead>\n",
       "    <tr style=\"text-align: right;\">\n",
       "      <th></th>\n",
       "      <th>Case</th>\n",
       "      <th>Num</th>\n",
       "      <th>FileName</th>\n",
       "      <th>Path</th>\n",
       "      <th>Subset</th>\n",
       "    </tr>\n",
       "  </thead>\n",
       "  <tbody>\n",
       "    <tr>\n",
       "      <th>0</th>\n",
       "      <td>GE4586</td>\n",
       "      <td>2</td>\n",
       "      <td>GE4586_2.jpg</td>\n",
       "      <td>/media/tohn/HDD/VISION_dataset/Prostate/Train/...</td>\n",
       "      <td>Train</td>\n",
       "    </tr>\n",
       "    <tr>\n",
       "      <th>1</th>\n",
       "      <td>IE5235</td>\n",
       "      <td>1</td>\n",
       "      <td>IE5235_1.jpg</td>\n",
       "      <td>/media/tohn/HDD/VISION_dataset/Prostate/Train/...</td>\n",
       "      <td>Train</td>\n",
       "    </tr>\n",
       "    <tr>\n",
       "      <th>2</th>\n",
       "      <td>GI2946</td>\n",
       "      <td>0</td>\n",
       "      <td>GI2946_0.jpg</td>\n",
       "      <td>/media/tohn/HDD/VISION_dataset/Prostate/Train/...</td>\n",
       "      <td>Train</td>\n",
       "    </tr>\n",
       "    <tr>\n",
       "      <th>3</th>\n",
       "      <td>BK1461</td>\n",
       "      <td>8</td>\n",
       "      <td>BK1461_8.jpg</td>\n",
       "      <td>/media/tohn/HDD/VISION_dataset/Prostate/Train/...</td>\n",
       "      <td>Train</td>\n",
       "    </tr>\n",
       "    <tr>\n",
       "      <th>4</th>\n",
       "      <td>IV7824</td>\n",
       "      <td>0</td>\n",
       "      <td>IV7824_0.jpg</td>\n",
       "      <td>/media/tohn/HDD/VISION_dataset/Prostate/Train/...</td>\n",
       "      <td>Train</td>\n",
       "    </tr>\n",
       "    <tr>\n",
       "      <th>...</th>\n",
       "      <td>...</td>\n",
       "      <td>...</td>\n",
       "      <td>...</td>\n",
       "      <td>...</td>\n",
       "      <td>...</td>\n",
       "    </tr>\n",
       "    <tr>\n",
       "      <th>156</th>\n",
       "      <td>FE2416</td>\n",
       "      <td>1</td>\n",
       "      <td>FE2416_1.jpg</td>\n",
       "      <td>/media/tohn/HDD/VISION_dataset/Prostate/Test/F...</td>\n",
       "      <td>Test</td>\n",
       "    </tr>\n",
       "    <tr>\n",
       "      <th>157</th>\n",
       "      <td>FE1996</td>\n",
       "      <td>4</td>\n",
       "      <td>FE1996_4.jpg</td>\n",
       "      <td>/media/tohn/HDD/VISION_dataset/Prostate/Test/F...</td>\n",
       "      <td>Test</td>\n",
       "    </tr>\n",
       "    <tr>\n",
       "      <th>158</th>\n",
       "      <td>GE4586</td>\n",
       "      <td>3</td>\n",
       "      <td>GE4586_3.jpg</td>\n",
       "      <td>/media/tohn/HDD/VISION_dataset/Prostate/Test/G...</td>\n",
       "      <td>Test</td>\n",
       "    </tr>\n",
       "    <tr>\n",
       "      <th>159</th>\n",
       "      <td>AY5921</td>\n",
       "      <td>2</td>\n",
       "      <td>AY5921_2.jpg</td>\n",
       "      <td>/media/tohn/HDD/VISION_dataset/Prostate/Test/A...</td>\n",
       "      <td>Test</td>\n",
       "    </tr>\n",
       "    <tr>\n",
       "      <th>160</th>\n",
       "      <td>FX4392</td>\n",
       "      <td>0</td>\n",
       "      <td>FX4392_0.jpg</td>\n",
       "      <td>/media/tohn/HDD/VISION_dataset/Prostate/Test/F...</td>\n",
       "      <td>Test</td>\n",
       "    </tr>\n",
       "  </tbody>\n",
       "</table>\n",
       "<p>161 rows × 5 columns</p>\n",
       "</div>"
      ],
      "text/plain": [
       "       Case Num      FileName  \\\n",
       "0    GE4586   2  GE4586_2.jpg   \n",
       "1    IE5235   1  IE5235_1.jpg   \n",
       "2    GI2946   0  GI2946_0.jpg   \n",
       "3    BK1461   8  BK1461_8.jpg   \n",
       "4    IV7824   0  IV7824_0.jpg   \n",
       "..      ...  ..           ...   \n",
       "156  FE2416   1  FE2416_1.jpg   \n",
       "157  FE1996   4  FE1996_4.jpg   \n",
       "158  GE4586   3  GE4586_3.jpg   \n",
       "159  AY5921   2  AY5921_2.jpg   \n",
       "160  FX4392   0  FX4392_0.jpg   \n",
       "\n",
       "                                                  Path Subset  \n",
       "0    /media/tohn/HDD/VISION_dataset/Prostate/Train/...  Train  \n",
       "1    /media/tohn/HDD/VISION_dataset/Prostate/Train/...  Train  \n",
       "2    /media/tohn/HDD/VISION_dataset/Prostate/Train/...  Train  \n",
       "3    /media/tohn/HDD/VISION_dataset/Prostate/Train/...  Train  \n",
       "4    /media/tohn/HDD/VISION_dataset/Prostate/Train/...  Train  \n",
       "..                                                 ...    ...  \n",
       "156  /media/tohn/HDD/VISION_dataset/Prostate/Test/F...   Test  \n",
       "157  /media/tohn/HDD/VISION_dataset/Prostate/Test/F...   Test  \n",
       "158  /media/tohn/HDD/VISION_dataset/Prostate/Test/G...   Test  \n",
       "159  /media/tohn/HDD/VISION_dataset/Prostate/Test/A...   Test  \n",
       "160  /media/tohn/HDD/VISION_dataset/Prostate/Test/F...   Test  \n",
       "\n",
       "[161 rows x 5 columns]"
      ]
     },
     "execution_count": 8,
     "metadata": {},
     "output_type": "execute_result"
    }
   ],
   "source": [
    "df = pd.DataFrame(Table)\n",
    "df"
   ]
  },
  {
   "cell_type": "code",
   "execution_count": 9,
   "metadata": {},
   "outputs": [],
   "source": [
    "os.chdir( '/media/tohn/HDD/VISION_dataset/Prostate/')\n",
    "df.to_csv('Prostate.csv')"
   ]
  },
  {
   "cell_type": "code",
   "execution_count": null,
   "metadata": {},
   "outputs": [],
   "source": []
  }
 ],
 "metadata": {
  "kernelspec": {
   "display_name": "AI",
   "language": "python",
   "name": "ai"
  },
  "language_info": {
   "codemirror_mode": {
    "name": "ipython",
    "version": 3
   },
   "file_extension": ".py",
   "mimetype": "text/x-python",
   "name": "python",
   "nbconvert_exporter": "python",
   "pygments_lexer": "ipython3",
   "version": "3.6.9"
  }
 },
 "nbformat": 4,
 "nbformat_minor": 4
}
