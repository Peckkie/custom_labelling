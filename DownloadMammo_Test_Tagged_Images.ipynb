{
 "cells": [
  {
   "cell_type": "code",
   "execution_count": 1,
   "metadata": {},
   "outputs": [],
   "source": [
    "import http.client\n",
    "import urllib.request\n",
    "import urllib.parse\n",
    "import urllib.error\n",
    "import base64\n",
    "import json\n",
    "import os\n",
    "\n",
    "from IPython.display import Image\n",
    "import cv2  \n",
    "import pandas as pd\n",
    "import numpy as np"
   ]
  },
  {
   "cell_type": "markdown",
   "metadata": {},
   "source": [
    "## Load tagged from custom vision"
   ]
  },
  {
   "cell_type": "code",
   "execution_count": 2,
   "metadata": {},
   "outputs": [],
   "source": [
    "headers = {\n",
    " # Request headers\n",
    " 'Training-Key': '1a4a4c41bd394819be757c43ac8f1931' #--------------------แก้ตาม Custom Project\n",
    "}\n",
    "project_id = \"2bdfc083-fefa-40dc-a48e-1f86af540ecd\" #--------------------แก้ตาม Custom Project"
   ]
  },
  {
   "cell_type": "code",
   "execution_count": 3,
   "metadata": {},
   "outputs": [],
   "source": [
    "params = urllib.parse.urlencode({\n",
    " # Format - int32. Maximum number of images to return. Defaults to 50, limited to 256.\n",
    " 'take': '50',\n",
    " # Format - int32. Number of images to skip before beginning the image batch. Defaults to 0.\n",
    " 'skip': '0'\n",
    "})"
   ]
  },
  {
   "cell_type": "code",
   "execution_count": 4,
   "metadata": {},
   "outputs": [],
   "source": [
    "try:\n",
    "     # base url\n",
    "    conn = http.client.HTTPSConnection('southeastasia.api.cognitive.microsoft.com')\n",
    "    conn.request(\"GET\", f\"/customvision/v3.0/training/projects/{project_id}/images/tagged?{params}\", \"{body}\", headers)\n",
    "    response = conn.getresponse() \n",
    "    # get response as a raw string\n",
    "    data = response.read() \n",
    "    # convert the string to a json object\n",
    "    data_json = json.loads(data)\n",
    "except:\n",
    "    print('error')"
   ]
  },
  {
   "cell_type": "code",
   "execution_count": 5,
   "metadata": {},
   "outputs": [
    {
     "data": {
      "text/plain": [
       "10"
      ]
     },
     "execution_count": 5,
     "metadata": {},
     "output_type": "execute_result"
    }
   ],
   "source": [
    "len(data_json)"
   ]
  },
  {
   "cell_type": "markdown",
   "metadata": {},
   "source": [
    "## Dataframe for checking images"
   ]
  },
  {
   "cell_type": "code",
   "execution_count": 6,
   "metadata": {},
   "outputs": [
    {
     "data": {
      "text/html": [
       "<div>\n",
       "<style scoped>\n",
       "    .dataframe tbody tr th:only-of-type {\n",
       "        vertical-align: middle;\n",
       "    }\n",
       "\n",
       "    .dataframe tbody tr th {\n",
       "        vertical-align: top;\n",
       "    }\n",
       "\n",
       "    .dataframe thead th {\n",
       "        text-align: right;\n",
       "    }\n",
       "</style>\n",
       "<table border=\"1\" class=\"dataframe\">\n",
       "  <thead>\n",
       "    <tr style=\"text-align: right;\">\n",
       "      <th></th>\n",
       "      <th>Unnamed: 0</th>\n",
       "      <th>Case</th>\n",
       "      <th>FileName</th>\n",
       "      <th>Path</th>\n",
       "      <th>Split</th>\n",
       "      <th>Category</th>\n",
       "    </tr>\n",
       "  </thead>\n",
       "  <tbody>\n",
       "    <tr>\n",
       "      <th>0</th>\n",
       "      <td>0</td>\n",
       "      <td>127</td>\n",
       "      <td>mammo_127.jpg</td>\n",
       "      <td>/media/tohn/SSD/mammo_custom/test/mammo_127.jpg</td>\n",
       "      <td>test</td>\n",
       "      <td>test</td>\n",
       "    </tr>\n",
       "    <tr>\n",
       "      <th>1</th>\n",
       "      <td>1</td>\n",
       "      <td>123</td>\n",
       "      <td>mammo_123.jpg</td>\n",
       "      <td>/media/tohn/SSD/mammo_custom/test/mammo_123.jpg</td>\n",
       "      <td>test</td>\n",
       "      <td>test</td>\n",
       "    </tr>\n",
       "    <tr>\n",
       "      <th>2</th>\n",
       "      <td>2</td>\n",
       "      <td>121</td>\n",
       "      <td>mammo_121.jpg</td>\n",
       "      <td>/media/tohn/SSD/mammo_custom/test/mammo_121.jpg</td>\n",
       "      <td>test</td>\n",
       "      <td>test</td>\n",
       "    </tr>\n",
       "    <tr>\n",
       "      <th>3</th>\n",
       "      <td>3</td>\n",
       "      <td>128</td>\n",
       "      <td>mammo_128.jpg</td>\n",
       "      <td>/media/tohn/SSD/mammo_custom/test/mammo_128.jpg</td>\n",
       "      <td>test</td>\n",
       "      <td>test</td>\n",
       "    </tr>\n",
       "    <tr>\n",
       "      <th>4</th>\n",
       "      <td>4</td>\n",
       "      <td>124</td>\n",
       "      <td>mammo_124.jpg</td>\n",
       "      <td>/media/tohn/SSD/mammo_custom/test/mammo_124.jpg</td>\n",
       "      <td>test</td>\n",
       "      <td>test</td>\n",
       "    </tr>\n",
       "  </tbody>\n",
       "</table>\n",
       "</div>"
      ],
      "text/plain": [
       "   Unnamed: 0  Case       FileName  \\\n",
       "0           0   127  mammo_127.jpg   \n",
       "1           1   123  mammo_123.jpg   \n",
       "2           2   121  mammo_121.jpg   \n",
       "3           3   128  mammo_128.jpg   \n",
       "4           4   124  mammo_124.jpg   \n",
       "\n",
       "                                              Path Split Category  \n",
       "0  /media/tohn/SSD/mammo_custom/test/mammo_127.jpg  test     test  \n",
       "1  /media/tohn/SSD/mammo_custom/test/mammo_123.jpg  test     test  \n",
       "2  /media/tohn/SSD/mammo_custom/test/mammo_121.jpg  test     test  \n",
       "3  /media/tohn/SSD/mammo_custom/test/mammo_128.jpg  test     test  \n",
       "4  /media/tohn/SSD/mammo_custom/test/mammo_124.jpg  test     test  "
      ]
     },
     "execution_count": 6,
     "metadata": {},
     "output_type": "execute_result"
    }
   ],
   "source": [
    "df = pd.read_csv('/media/tohn/SSD/mammo_custom/mammo.csv')\n",
    "df.head(5)"
   ]
  },
  {
   "cell_type": "code",
   "execution_count": 7,
   "metadata": {},
   "outputs": [
    {
     "data": {
      "text/plain": [
       "129"
      ]
     },
     "execution_count": 7,
     "metadata": {},
     "output_type": "execute_result"
    }
   ],
   "source": [
    "len(df)"
   ]
  },
  {
   "cell_type": "code",
   "execution_count": 8,
   "metadata": {},
   "outputs": [],
   "source": [
    "thisdf=df"
   ]
  },
  {
   "cell_type": "markdown",
   "metadata": {},
   "source": [
    "### Checking images loop "
   ]
  },
  {
   "cell_type": "markdown",
   "metadata": {},
   "source": [
    "#### รอบที่ 1 : 50"
   ]
  },
  {
   "cell_type": "code",
   "execution_count": 9,
   "metadata": {},
   "outputs": [],
   "source": [
    "def findmat (thisdf):\n",
    "    for record in thisdf.iterrows():\n",
    "        img_path = record[1]['Path']\n",
    "        img_c = cv2.imread(img_path)\n",
    "        try:\n",
    "            if (img_c.shape[0] == img.shape[0]) and (img_c.shape[1] == img.shape[1]):\n",
    "                img_dif = np.sum(img-img_c)\n",
    "                path = 'None'\n",
    "                if img_dif == 0:\n",
    "                    print(img_path)\n",
    "                    path = img_path\n",
    "                return path\n",
    "        except:\n",
    "            path = 'None'\n",
    "            print('this is none')"
   ]
  },
  {
   "cell_type": "code",
   "execution_count": 10,
   "metadata": {
    "scrolled": true
   },
   "outputs": [
    {
     "name": "stdout",
     "output_type": "stream",
     "text": [
      "0\n",
      "None\n",
      "0\n",
      "None\n",
      "1\n",
      "None\n",
      "1\n",
      "None\n",
      "1\n",
      "None\n",
      "2\n",
      "None\n",
      "2\n",
      "None\n",
      "3\n",
      "None\n",
      "3\n",
      "None\n",
      "3\n",
      "None\n",
      "4\n",
      "/media/tohn/SSD/mammo_custom/test/mammo_120.jpg\n",
      "/media/tohn/SSD/mammo_custom/test/mammo_120.jpg\n",
      "4\n",
      "/media/tohn/SSD/mammo_custom/test/mammo_120.jpg\n",
      "/media/tohn/SSD/mammo_custom/test/mammo_120.jpg\n",
      "4\n",
      "/media/tohn/SSD/mammo_custom/test/mammo_120.jpg\n",
      "/media/tohn/SSD/mammo_custom/test/mammo_120.jpg\n",
      "4\n",
      "/media/tohn/SSD/mammo_custom/test/mammo_120.jpg\n",
      "/media/tohn/SSD/mammo_custom/test/mammo_120.jpg\n",
      "4\n",
      "/media/tohn/SSD/mammo_custom/test/mammo_120.jpg\n",
      "/media/tohn/SSD/mammo_custom/test/mammo_120.jpg\n",
      "5\n",
      "/media/tohn/SSD/mammo_custom/test/mammo_125.jpg\n",
      "/media/tohn/SSD/mammo_custom/test/mammo_125.jpg\n",
      "5\n",
      "/media/tohn/SSD/mammo_custom/test/mammo_125.jpg\n",
      "/media/tohn/SSD/mammo_custom/test/mammo_125.jpg\n",
      "5\n",
      "/media/tohn/SSD/mammo_custom/test/mammo_125.jpg\n",
      "/media/tohn/SSD/mammo_custom/test/mammo_125.jpg\n",
      "5\n",
      "/media/tohn/SSD/mammo_custom/test/mammo_125.jpg\n",
      "/media/tohn/SSD/mammo_custom/test/mammo_125.jpg\n",
      "5\n",
      "/media/tohn/SSD/mammo_custom/test/mammo_125.jpg\n",
      "/media/tohn/SSD/mammo_custom/test/mammo_125.jpg\n",
      "5\n",
      "/media/tohn/SSD/mammo_custom/test/mammo_125.jpg\n",
      "/media/tohn/SSD/mammo_custom/test/mammo_125.jpg\n",
      "6\n",
      "None\n",
      "7\n",
      "/media/tohn/SSD/mammo_custom/test/mammo_127.jpg\n",
      "/media/tohn/SSD/mammo_custom/test/mammo_127.jpg\n",
      "8\n",
      "None\n",
      "9\n",
      "None\n",
      "9\n",
      "None\n",
      "9\n",
      "None\n",
      "9\n",
      "None\n"
     ]
    }
   ],
   "source": [
    "datadf = list()\n",
    "for i in range(0,len(data_json)):\n",
    "    \n",
    "    #load image origin save to test.jpg\n",
    "    urllib.request.urlretrieve(data_json[i]['originalImageUri'],'test.jpg')\n",
    "    img = cv2.imread('test.jpg') \n",
    "    \n",
    "    originalImage = data_json[i]['originalImageUri']\n",
    "    for j in range(len(data_json[i]['regions'])):    \n",
    "        tagName = data_json[i]['regions'][j]['tagName']\n",
    "        left = int(data_json[i]['regions'][j]['left'] * data_json[i]['width'])\n",
    "        top = int(data_json[i]['regions'][j]['top'] * data_json[i]['height'])\n",
    "        width = int(data_json[i]['regions'][j]['width'] * data_json[i]['width'])\n",
    "        height = int(data_json[i]['regions'][j]['height'] * data_json[i]['height'])\n",
    "    #     img = cv2.rectangle(img, (left,top), (left+width,top+height), (255,0,0), 5)\n",
    "        #Real point\n",
    "        Rleft =data_json[i]['regions'][j]['left']\n",
    "        Rtop = data_json[i]['regions'][j]['top']\n",
    "        Rwidth = data_json[i]['regions'][j]['width']\n",
    "        Rheight = data_json[i]['regions'][j]['height']\n",
    "    \n",
    "        #loop check img\n",
    "        print(i)\n",
    "        path = findmat(thisdf)\n",
    "        print(path)\n",
    "\n",
    "        datadf.append({'img_path':path,'tagName':tagName,'originalImage': originalImage, 'left':left, 'top':top,\n",
    "                              'width':width,'height':height, 'Rleft':Rleft, 'Rtop':Rtop,\n",
    "                              'Rwidth':Rwidth,'Rheight':Rheight})"
   ]
  },
  {
   "cell_type": "code",
   "execution_count": 11,
   "metadata": {},
   "outputs": [
    {
     "data": {
      "text/html": [
       "<div>\n",
       "<style scoped>\n",
       "    .dataframe tbody tr th:only-of-type {\n",
       "        vertical-align: middle;\n",
       "    }\n",
       "\n",
       "    .dataframe tbody tr th {\n",
       "        vertical-align: top;\n",
       "    }\n",
       "\n",
       "    .dataframe thead th {\n",
       "        text-align: right;\n",
       "    }\n",
       "</style>\n",
       "<table border=\"1\" class=\"dataframe\">\n",
       "  <thead>\n",
       "    <tr style=\"text-align: right;\">\n",
       "      <th></th>\n",
       "      <th>img_path</th>\n",
       "      <th>tagName</th>\n",
       "      <th>originalImage</th>\n",
       "      <th>left</th>\n",
       "      <th>top</th>\n",
       "      <th>width</th>\n",
       "      <th>height</th>\n",
       "      <th>Rleft</th>\n",
       "      <th>Rtop</th>\n",
       "      <th>Rwidth</th>\n",
       "      <th>Rheight</th>\n",
       "    </tr>\n",
       "  </thead>\n",
       "  <tbody>\n",
       "    <tr>\n",
       "      <th>0</th>\n",
       "      <td>None</td>\n",
       "      <td>mammo</td>\n",
       "      <td>https://irisprodseatraining.blob.core.windows....</td>\n",
       "      <td>599</td>\n",
       "      <td>282</td>\n",
       "      <td>50</td>\n",
       "      <td>40</td>\n",
       "      <td>0.841292</td>\n",
       "      <td>0.397099</td>\n",
       "      <td>0.070225</td>\n",
       "      <td>0.056180</td>\n",
       "    </tr>\n",
       "    <tr>\n",
       "      <th>1</th>\n",
       "      <td>None</td>\n",
       "      <td>mammo</td>\n",
       "      <td>https://irisprodseatraining.blob.core.windows....</td>\n",
       "      <td>599</td>\n",
       "      <td>518</td>\n",
       "      <td>37</td>\n",
       "      <td>25</td>\n",
       "      <td>0.841292</td>\n",
       "      <td>0.728560</td>\n",
       "      <td>0.053371</td>\n",
       "      <td>0.035112</td>\n",
       "    </tr>\n",
       "    <tr>\n",
       "      <th>2</th>\n",
       "      <td>None</td>\n",
       "      <td>mammo</td>\n",
       "      <td>https://irisprodseatraining.blob.core.windows....</td>\n",
       "      <td>70</td>\n",
       "      <td>380</td>\n",
       "      <td>50</td>\n",
       "      <td>47</td>\n",
       "      <td>0.099719</td>\n",
       "      <td>0.534739</td>\n",
       "      <td>0.070225</td>\n",
       "      <td>0.067416</td>\n",
       "    </tr>\n",
       "    <tr>\n",
       "      <th>3</th>\n",
       "      <td>None</td>\n",
       "      <td>mammo</td>\n",
       "      <td>https://irisprodseatraining.blob.core.windows....</td>\n",
       "      <td>102</td>\n",
       "      <td>333</td>\n",
       "      <td>42</td>\n",
       "      <td>34</td>\n",
       "      <td>0.144663</td>\n",
       "      <td>0.468728</td>\n",
       "      <td>0.058989</td>\n",
       "      <td>0.047753</td>\n",
       "    </tr>\n",
       "    <tr>\n",
       "      <th>4</th>\n",
       "      <td>None</td>\n",
       "      <td>mammo</td>\n",
       "      <td>https://irisprodseatraining.blob.core.windows....</td>\n",
       "      <td>39</td>\n",
       "      <td>334</td>\n",
       "      <td>52</td>\n",
       "      <td>44</td>\n",
       "      <td>0.054775</td>\n",
       "      <td>0.470133</td>\n",
       "      <td>0.074438</td>\n",
       "      <td>0.061798</td>\n",
       "    </tr>\n",
       "  </tbody>\n",
       "</table>\n",
       "</div>"
      ],
      "text/plain": [
       "  img_path tagName                                      originalImage  left  \\\n",
       "0     None   mammo  https://irisprodseatraining.blob.core.windows....   599   \n",
       "1     None   mammo  https://irisprodseatraining.blob.core.windows....   599   \n",
       "2     None   mammo  https://irisprodseatraining.blob.core.windows....    70   \n",
       "3     None   mammo  https://irisprodseatraining.blob.core.windows....   102   \n",
       "4     None   mammo  https://irisprodseatraining.blob.core.windows....    39   \n",
       "\n",
       "   top  width  height     Rleft      Rtop    Rwidth   Rheight  \n",
       "0  282     50      40  0.841292  0.397099  0.070225  0.056180  \n",
       "1  518     37      25  0.841292  0.728560  0.053371  0.035112  \n",
       "2  380     50      47  0.099719  0.534739  0.070225  0.067416  \n",
       "3  333     42      34  0.144663  0.468728  0.058989  0.047753  \n",
       "4  334     52      44  0.054775  0.470133  0.074438  0.061798  "
      ]
     },
     "execution_count": 11,
     "metadata": {},
     "output_type": "execute_result"
    }
   ],
   "source": [
    "df = pd.DataFrame(datadf)\n",
    "df.head()"
   ]
  },
  {
   "cell_type": "code",
   "execution_count": 12,
   "metadata": {},
   "outputs": [
    {
     "name": "stdout",
     "output_type": "stream",
     "text": [
      "28\n"
     ]
    }
   ],
   "source": [
    "print(len(df))"
   ]
  },
  {
   "cell_type": "code",
   "execution_count": 13,
   "metadata": {},
   "outputs": [],
   "source": [
    "os.chdir('/home/yupaporn/USAI_labeling/')\n",
    "df.to_csv('mammo_Test.csv')"
   ]
  },
  {
   "cell_type": "markdown",
   "metadata": {},
   "source": [
    "### check null "
   ]
  },
  {
   "cell_type": "code",
   "execution_count": 13,
   "metadata": {},
   "outputs": [
    {
     "data": {
      "text/plain": [
       "4"
      ]
     },
     "execution_count": 13,
     "metadata": {},
     "output_type": "execute_result"
    }
   ],
   "source": [
    "len(set(df['img_path']))"
   ]
  },
  {
   "cell_type": "code",
   "execution_count": 14,
   "metadata": {},
   "outputs": [
    {
     "data": {
      "text/html": [
       "<div>\n",
       "<style scoped>\n",
       "    .dataframe tbody tr th:only-of-type {\n",
       "        vertical-align: middle;\n",
       "    }\n",
       "\n",
       "    .dataframe tbody tr th {\n",
       "        vertical-align: top;\n",
       "    }\n",
       "\n",
       "    .dataframe thead th {\n",
       "        text-align: right;\n",
       "    }\n",
       "</style>\n",
       "<table border=\"1\" class=\"dataframe\">\n",
       "  <thead>\n",
       "    <tr style=\"text-align: right;\">\n",
       "      <th></th>\n",
       "      <th>img_path</th>\n",
       "      <th>tagName</th>\n",
       "      <th>originalImage</th>\n",
       "      <th>left</th>\n",
       "      <th>top</th>\n",
       "      <th>width</th>\n",
       "      <th>height</th>\n",
       "      <th>Rleft</th>\n",
       "      <th>Rtop</th>\n",
       "      <th>Rwidth</th>\n",
       "      <th>Rheight</th>\n",
       "    </tr>\n",
       "  </thead>\n",
       "  <tbody>\n",
       "  </tbody>\n",
       "</table>\n",
       "</div>"
      ],
      "text/plain": [
       "Empty DataFrame\n",
       "Columns: [img_path, tagName, originalImage, left, top, width, height, Rleft, Rtop, Rwidth, Rheight]\n",
       "Index: []"
      ]
     },
     "execution_count": 14,
     "metadata": {},
     "output_type": "execute_result"
    }
   ],
   "source": [
    "df[df['img_path'].isnull()]"
   ]
  },
  {
   "cell_type": "code",
   "execution_count": 15,
   "metadata": {},
   "outputs": [],
   "source": [
    "df.loc[df['img_path'].isnull(),'img_path'] = 'None'"
   ]
  },
  {
   "cell_type": "code",
   "execution_count": 16,
   "metadata": {},
   "outputs": [
    {
     "data": {
      "text/html": [
       "<div>\n",
       "<style scoped>\n",
       "    .dataframe tbody tr th:only-of-type {\n",
       "        vertical-align: middle;\n",
       "    }\n",
       "\n",
       "    .dataframe tbody tr th {\n",
       "        vertical-align: top;\n",
       "    }\n",
       "\n",
       "    .dataframe thead th {\n",
       "        text-align: right;\n",
       "    }\n",
       "</style>\n",
       "<table border=\"1\" class=\"dataframe\">\n",
       "  <thead>\n",
       "    <tr style=\"text-align: right;\">\n",
       "      <th></th>\n",
       "      <th>img_path</th>\n",
       "      <th>tagName</th>\n",
       "      <th>originalImage</th>\n",
       "      <th>left</th>\n",
       "      <th>top</th>\n",
       "      <th>width</th>\n",
       "      <th>height</th>\n",
       "      <th>Rleft</th>\n",
       "      <th>Rtop</th>\n",
       "      <th>Rwidth</th>\n",
       "      <th>Rheight</th>\n",
       "    </tr>\n",
       "  </thead>\n",
       "  <tbody>\n",
       "    <tr>\n",
       "      <th>0</th>\n",
       "      <td>None</td>\n",
       "      <td>mammo</td>\n",
       "      <td>https://irisprodseatraining.blob.core.windows....</td>\n",
       "      <td>599</td>\n",
       "      <td>282</td>\n",
       "      <td>50</td>\n",
       "      <td>40</td>\n",
       "      <td>0.841292</td>\n",
       "      <td>0.397099</td>\n",
       "      <td>0.070225</td>\n",
       "      <td>0.056180</td>\n",
       "    </tr>\n",
       "    <tr>\n",
       "      <th>1</th>\n",
       "      <td>None</td>\n",
       "      <td>mammo</td>\n",
       "      <td>https://irisprodseatraining.blob.core.windows....</td>\n",
       "      <td>599</td>\n",
       "      <td>518</td>\n",
       "      <td>37</td>\n",
       "      <td>25</td>\n",
       "      <td>0.841292</td>\n",
       "      <td>0.728560</td>\n",
       "      <td>0.053371</td>\n",
       "      <td>0.035112</td>\n",
       "    </tr>\n",
       "    <tr>\n",
       "      <th>2</th>\n",
       "      <td>None</td>\n",
       "      <td>mammo</td>\n",
       "      <td>https://irisprodseatraining.blob.core.windows....</td>\n",
       "      <td>70</td>\n",
       "      <td>380</td>\n",
       "      <td>50</td>\n",
       "      <td>47</td>\n",
       "      <td>0.099719</td>\n",
       "      <td>0.534739</td>\n",
       "      <td>0.070225</td>\n",
       "      <td>0.067416</td>\n",
       "    </tr>\n",
       "    <tr>\n",
       "      <th>3</th>\n",
       "      <td>None</td>\n",
       "      <td>mammo</td>\n",
       "      <td>https://irisprodseatraining.blob.core.windows....</td>\n",
       "      <td>102</td>\n",
       "      <td>333</td>\n",
       "      <td>42</td>\n",
       "      <td>34</td>\n",
       "      <td>0.144663</td>\n",
       "      <td>0.468728</td>\n",
       "      <td>0.058989</td>\n",
       "      <td>0.047753</td>\n",
       "    </tr>\n",
       "    <tr>\n",
       "      <th>4</th>\n",
       "      <td>None</td>\n",
       "      <td>mammo</td>\n",
       "      <td>https://irisprodseatraining.blob.core.windows....</td>\n",
       "      <td>39</td>\n",
       "      <td>334</td>\n",
       "      <td>52</td>\n",
       "      <td>44</td>\n",
       "      <td>0.054775</td>\n",
       "      <td>0.470133</td>\n",
       "      <td>0.074438</td>\n",
       "      <td>0.061798</td>\n",
       "    </tr>\n",
       "    <tr>\n",
       "      <th>5</th>\n",
       "      <td>None</td>\n",
       "      <td>mammo</td>\n",
       "      <td>https://irisprodseatraining.blob.core.windows....</td>\n",
       "      <td>363</td>\n",
       "      <td>245</td>\n",
       "      <td>60</td>\n",
       "      <td>53</td>\n",
       "      <td>0.511236</td>\n",
       "      <td>0.345133</td>\n",
       "      <td>0.084270</td>\n",
       "      <td>0.075843</td>\n",
       "    </tr>\n",
       "    <tr>\n",
       "      <th>6</th>\n",
       "      <td>None</td>\n",
       "      <td>mammo</td>\n",
       "      <td>https://irisprodseatraining.blob.core.windows....</td>\n",
       "      <td>439</td>\n",
       "      <td>561</td>\n",
       "      <td>65</td>\n",
       "      <td>47</td>\n",
       "      <td>0.616573</td>\n",
       "      <td>0.788953</td>\n",
       "      <td>0.091292</td>\n",
       "      <td>0.067416</td>\n",
       "    </tr>\n",
       "    <tr>\n",
       "      <th>7</th>\n",
       "      <td>None</td>\n",
       "      <td>mammo</td>\n",
       "      <td>https://irisprodseatraining.blob.core.windows....</td>\n",
       "      <td>286</td>\n",
       "      <td>238</td>\n",
       "      <td>36</td>\n",
       "      <td>36</td>\n",
       "      <td>0.401685</td>\n",
       "      <td>0.335301</td>\n",
       "      <td>0.051966</td>\n",
       "      <td>0.051966</td>\n",
       "    </tr>\n",
       "    <tr>\n",
       "      <th>8</th>\n",
       "      <td>None</td>\n",
       "      <td>mammo</td>\n",
       "      <td>https://irisprodseatraining.blob.core.windows....</td>\n",
       "      <td>303</td>\n",
       "      <td>456</td>\n",
       "      <td>42</td>\n",
       "      <td>31</td>\n",
       "      <td>0.426966</td>\n",
       "      <td>0.641481</td>\n",
       "      <td>0.058989</td>\n",
       "      <td>0.044944</td>\n",
       "    </tr>\n",
       "    <tr>\n",
       "      <th>9</th>\n",
       "      <td>None</td>\n",
       "      <td>mammo</td>\n",
       "      <td>https://irisprodseatraining.blob.core.windows....</td>\n",
       "      <td>392</td>\n",
       "      <td>299</td>\n",
       "      <td>93</td>\n",
       "      <td>63</td>\n",
       "      <td>0.550562</td>\n",
       "      <td>0.420975</td>\n",
       "      <td>0.132022</td>\n",
       "      <td>0.088483</td>\n",
       "    </tr>\n",
       "    <tr>\n",
       "      <th>21</th>\n",
       "      <td>None</td>\n",
       "      <td>mammo</td>\n",
       "      <td>https://irisprodseatraining.blob.core.windows....</td>\n",
       "      <td>345</td>\n",
       "      <td>242</td>\n",
       "      <td>36</td>\n",
       "      <td>35</td>\n",
       "      <td>0.484551</td>\n",
       "      <td>0.340919</td>\n",
       "      <td>0.051966</td>\n",
       "      <td>0.050562</td>\n",
       "    </tr>\n",
       "    <tr>\n",
       "      <th>23</th>\n",
       "      <td>None</td>\n",
       "      <td>mammo</td>\n",
       "      <td>https://irisprodseatraining.blob.core.windows....</td>\n",
       "      <td>460</td>\n",
       "      <td>375</td>\n",
       "      <td>31</td>\n",
       "      <td>34</td>\n",
       "      <td>0.646067</td>\n",
       "      <td>0.527717</td>\n",
       "      <td>0.044944</td>\n",
       "      <td>0.049157</td>\n",
       "    </tr>\n",
       "    <tr>\n",
       "      <th>24</th>\n",
       "      <td>None</td>\n",
       "      <td>mammo</td>\n",
       "      <td>https://irisprodseatraining.blob.core.windows....</td>\n",
       "      <td>21</td>\n",
       "      <td>526</td>\n",
       "      <td>35</td>\n",
       "      <td>26</td>\n",
       "      <td>0.030899</td>\n",
       "      <td>0.739795</td>\n",
       "      <td>0.050562</td>\n",
       "      <td>0.037921</td>\n",
       "    </tr>\n",
       "    <tr>\n",
       "      <th>25</th>\n",
       "      <td>None</td>\n",
       "      <td>mammo</td>\n",
       "      <td>https://irisprodseatraining.blob.core.windows....</td>\n",
       "      <td>108</td>\n",
       "      <td>427</td>\n",
       "      <td>37</td>\n",
       "      <td>31</td>\n",
       "      <td>0.153090</td>\n",
       "      <td>0.600750</td>\n",
       "      <td>0.053371</td>\n",
       "      <td>0.043539</td>\n",
       "    </tr>\n",
       "    <tr>\n",
       "      <th>26</th>\n",
       "      <td>None</td>\n",
       "      <td>mammo</td>\n",
       "      <td>https://irisprodseatraining.blob.core.windows....</td>\n",
       "      <td>148</td>\n",
       "      <td>430</td>\n",
       "      <td>34</td>\n",
       "      <td>26</td>\n",
       "      <td>0.209270</td>\n",
       "      <td>0.604964</td>\n",
       "      <td>0.047753</td>\n",
       "      <td>0.037921</td>\n",
       "    </tr>\n",
       "    <tr>\n",
       "      <th>27</th>\n",
       "      <td>None</td>\n",
       "      <td>mammo</td>\n",
       "      <td>https://irisprodseatraining.blob.core.windows....</td>\n",
       "      <td>71</td>\n",
       "      <td>410</td>\n",
       "      <td>37</td>\n",
       "      <td>33</td>\n",
       "      <td>0.101124</td>\n",
       "      <td>0.576874</td>\n",
       "      <td>0.053371</td>\n",
       "      <td>0.046348</td>\n",
       "    </tr>\n",
       "  </tbody>\n",
       "</table>\n",
       "</div>"
      ],
      "text/plain": [
       "   img_path tagName                                      originalImage  left  \\\n",
       "0      None   mammo  https://irisprodseatraining.blob.core.windows....   599   \n",
       "1      None   mammo  https://irisprodseatraining.blob.core.windows....   599   \n",
       "2      None   mammo  https://irisprodseatraining.blob.core.windows....    70   \n",
       "3      None   mammo  https://irisprodseatraining.blob.core.windows....   102   \n",
       "4      None   mammo  https://irisprodseatraining.blob.core.windows....    39   \n",
       "5      None   mammo  https://irisprodseatraining.blob.core.windows....   363   \n",
       "6      None   mammo  https://irisprodseatraining.blob.core.windows....   439   \n",
       "7      None   mammo  https://irisprodseatraining.blob.core.windows....   286   \n",
       "8      None   mammo  https://irisprodseatraining.blob.core.windows....   303   \n",
       "9      None   mammo  https://irisprodseatraining.blob.core.windows....   392   \n",
       "21     None   mammo  https://irisprodseatraining.blob.core.windows....   345   \n",
       "23     None   mammo  https://irisprodseatraining.blob.core.windows....   460   \n",
       "24     None   mammo  https://irisprodseatraining.blob.core.windows....    21   \n",
       "25     None   mammo  https://irisprodseatraining.blob.core.windows....   108   \n",
       "26     None   mammo  https://irisprodseatraining.blob.core.windows....   148   \n",
       "27     None   mammo  https://irisprodseatraining.blob.core.windows....    71   \n",
       "\n",
       "    top  width  height     Rleft      Rtop    Rwidth   Rheight  \n",
       "0   282     50      40  0.841292  0.397099  0.070225  0.056180  \n",
       "1   518     37      25  0.841292  0.728560  0.053371  0.035112  \n",
       "2   380     50      47  0.099719  0.534739  0.070225  0.067416  \n",
       "3   333     42      34  0.144663  0.468728  0.058989  0.047753  \n",
       "4   334     52      44  0.054775  0.470133  0.074438  0.061798  \n",
       "5   245     60      53  0.511236  0.345133  0.084270  0.075843  \n",
       "6   561     65      47  0.616573  0.788953  0.091292  0.067416  \n",
       "7   238     36      36  0.401685  0.335301  0.051966  0.051966  \n",
       "8   456     42      31  0.426966  0.641481  0.058989  0.044944  \n",
       "9   299     93      63  0.550562  0.420975  0.132022  0.088483  \n",
       "21  242     36      35  0.484551  0.340919  0.051966  0.050562  \n",
       "23  375     31      34  0.646067  0.527717  0.044944  0.049157  \n",
       "24  526     35      26  0.030899  0.739795  0.050562  0.037921  \n",
       "25  427     37      31  0.153090  0.600750  0.053371  0.043539  \n",
       "26  430     34      26  0.209270  0.604964  0.047753  0.037921  \n",
       "27  410     37      33  0.101124  0.576874  0.053371  0.046348  "
      ]
     },
     "execution_count": 16,
     "metadata": {},
     "output_type": "execute_result"
    }
   ],
   "source": [
    "df[df['img_path']=='None']"
   ]
  },
  {
   "cell_type": "markdown",
   "metadata": {},
   "source": [
    "### Save .csv "
   ]
  },
  {
   "cell_type": "code",
   "execution_count": 27,
   "metadata": {},
   "outputs": [],
   "source": [
    "os.chdir('/home/yupaporn/USAI_labeling/')\n",
    "df.to_csv('AB01.csv')"
   ]
  },
  {
   "cell_type": "code",
   "execution_count": null,
   "metadata": {},
   "outputs": [],
   "source": []
  },
  {
   "cell_type": "code",
   "execution_count": 31,
   "metadata": {},
   "outputs": [
    {
     "data": {
      "text/plain": [
       "'/media/tohn/HDD/VISION_dataset/USAI/ABnormal01/4 ABNORMAL/cropped/AB04 P3-1 C024.JPG'"
      ]
     },
     "execution_count": 31,
     "metadata": {},
     "output_type": "execute_result"
    }
   ],
   "source": [
    "# df[:142]['img_path'][141]"
   ]
  },
  {
   "cell_type": "code",
   "execution_count": 32,
   "metadata": {},
   "outputs": [
    {
     "data": {
      "text/plain": [
       "'/media/tohn/HDD/VISION_dataset/USAI/ABnormal01/4 ABNORMAL/cropped/AB04 P1 C029.JPG'"
      ]
     },
     "execution_count": 32,
     "metadata": {},
     "output_type": "execute_result"
    }
   ],
   "source": [
    "# df[:142]['img_path'][140]"
   ]
  },
  {
   "cell_type": "code",
   "execution_count": 33,
   "metadata": {},
   "outputs": [
    {
     "data": {
      "text/plain": [
       "'/media/tohn/HDD/VISION_dataset/USAI/ABnormal01/4 ABNORMAL/cropped/AB04 P1 C029.JPG'"
      ]
     },
     "execution_count": 33,
     "metadata": {},
     "output_type": "execute_result"
    }
   ],
   "source": [
    "# df[:142]['img_path'][139]"
   ]
  },
  {
   "cell_type": "code",
   "execution_count": null,
   "metadata": {},
   "outputs": [],
   "source": []
  },
  {
   "cell_type": "code",
   "execution_count": null,
   "metadata": {},
   "outputs": [],
   "source": [
    "# urllib.request.urlretrieve(data_json[0]['originalImageUri'],'test.jpg')\n",
    "#     #Image(filename='test.jpg') \n",
    "# img = cv2.imread('test.jpg') \n",
    "    \n",
    "    \n",
    "# i = 0\n",
    "# originalImage = data_json[i]['originalImageUri']\n",
    "# tagName = data_json[i]['regions'][0]['tagName']\n",
    "# left = int(data_json[i]['regions'][0]['left'] * data_json[i]['width'])\n",
    "# top = int(data_json[i]['regions'][0]['top'] * data_json[i]['height'])\n",
    "# width = int(data_json[i]['regions'][0]['width'] * data_json[i]['width'])\n",
    "# height = int(data_json[i]['regions'][0]['height'] * data_json[i]['height'])\n",
    "    \n",
    "# img = cv2.rectangle(img, (left,top), (left+width,top+height), (255,0,0), 5)\n",
    "# img_path = findmat (thisdf)\n",
    "# Rleft =data_json[i]['regions'][0]['left']\n",
    "# Rtop = data_json[i]['regions'][0]['top']\n",
    "# Rwidth = data_json[i]['regions'][0]['width']\n",
    "# Rheight = data_json[i]['regions'][0]['height']"
   ]
  }
 ],
 "metadata": {
  "kernelspec": {
   "display_name": "USAI3",
   "language": "python",
   "name": "usai3"
  },
  "language_info": {
   "codemirror_mode": {
    "name": "ipython",
    "version": 3
   },
   "file_extension": ".py",
   "mimetype": "text/x-python",
   "name": "python",
   "nbconvert_exporter": "python",
   "pygments_lexer": "ipython3",
   "version": "3.6.9"
  }
 },
 "nbformat": 4,
 "nbformat_minor": 4
}
